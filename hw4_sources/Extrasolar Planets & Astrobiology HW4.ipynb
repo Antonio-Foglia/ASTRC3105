{
 "cells": [
  {
   "cell_type": "markdown",
   "metadata": {},
   "source": [
    "**Antonio Foglia, af3152**\n",
    "\n",
    "Notebook: https://github.com/Antonio-Foglia/ASTRC3105"
   ]
  },
  {
   "cell_type": "code",
   "execution_count": 1,
   "metadata": {},
   "outputs": [],
   "source": [
    "import numpy as np\n",
    "import astropy as ap\n",
    "from astropy import constants as const\n",
    "from astropy  import units as u\n",
    "import latexify"
   ]
  },
  {
   "cell_type": "code",
   "execution_count": 2,
   "metadata": {},
   "outputs": [],
   "source": [
    "identifiers = {\n",
    "    \"M_star\": \"M\",\n",
    "    \"R_star\": \"R\",\n",
    "    \"M_sun\": \"M_s\",\n",
    "    \"R_sun\": \"R_s\",\n",
    "    \"M_earth\": \"M_e\",\n",
    "    \"R_earth\": \"R_e\",\n",
    "    \"hour\": \"h\",\n",
    "    \"day\": \"d\",\n",
    "}\n",
    "G = const.G\n",
    "pi = np.pi\n",
    "M_sun = const.M_sun\n",
    "R_sun = const.R_sun\n",
    "R_earth = const.R_earth\n",
    "day = u.day\n",
    "hour = u.hour\n",
    "AU = const.au"
   ]
  },
  {
   "cell_type": "markdown",
   "metadata": {
    "tags": []
   },
   "source": [
    "# Q1"
   ]
  },
  {
   "cell_type": "code",
   "execution_count": 3,
   "metadata": {},
   "outputs": [
    {
     "data": {
      "text/latex": [
       "$$ \\displaystyle \\mathrm{a}(P, M) = \\left( \\frac{P^{{2}} G M}{{4} {\\pi}^{{2}}} \\right)^{\\frac{{1}}{{3}}} $$"
      ],
      "text/plain": [
       "<latexify.frontend.LatexifiedFunction at 0x7fb784b68f10>"
      ]
     },
     "execution_count": 3,
     "metadata": {},
     "output_type": "execute_result"
    }
   ],
   "source": [
    "@latexify.function(identifiers=identifiers, use_math_symbols=True)\n",
    "def a(P, M_star):\n",
    "    return ((P**2 * G * M_star / (4 * pi**2))**(1/3))\n",
    "a"
   ]
  },
  {
   "cell_type": "code",
   "execution_count": 4,
   "metadata": {},
   "outputs": [
    {
     "data": {
      "text/latex": [
       "$5.3199826 \\times 10^{10} \\; \\mathrm{m}$"
      ],
      "text/plain": [
       "<Quantity 5.31998259e+10 m>"
      ]
     },
     "execution_count": 4,
     "metadata": {},
     "output_type": "execute_result"
    }
   ],
   "source": [
    "a(100*day,0.6*M_sun).decompose()"
   ]
  },
  {
   "cell_type": "code",
   "execution_count": 5,
   "metadata": {},
   "outputs": [
    {
     "data": {
      "text/latex": [
       "$$ \\displaystyle \\mathrm{Prob}(P, M, R) = {0.005} \\frac{R}{R_s} \\left( \\frac{\\mathrm{a}\\left(P, M\\right)}{{1} AU} \\right)^{-{1}} $$"
      ],
      "text/plain": [
       "<latexify.frontend.LatexifiedFunction at 0x7fb783c17910>"
      ]
     },
     "execution_count": 5,
     "metadata": {},
     "output_type": "execute_result"
    }
   ],
   "source": [
    "@latexify.function(identifiers=identifiers, use_math_symbols=True)\n",
    "def Prob(P, M_star, R_star):\n",
    "    return 0.005*(R_star / R_sun) * (a(P, M_star) / (1*AU))**(-1)\n",
    "Prob"
   ]
  },
  {
   "cell_type": "code",
   "execution_count": 20,
   "metadata": {},
   "outputs": [
    {
     "data": {
      "text/latex": [
       "$0.0071705981 \\; \\mathrm{}$"
      ],
      "text/plain": [
       "<Quantity 0.0071706>"
      ]
     },
     "execution_count": 20,
     "metadata": {},
     "output_type": "execute_result"
    }
   ],
   "source": [
    "Prob(100 * day, 0.6*M_sun, 0.51*R_sun).decompose()"
   ]
  },
  {
   "cell_type": "markdown",
   "metadata": {
    "tags": []
   },
   "source": [
    "## b)"
   ]
  },
  {
   "cell_type": "code",
   "execution_count": 7,
   "metadata": {},
   "outputs": [
    {
     "data": {
      "text/latex": [
       "$$ \\displaystyle \\mathrm{t}(P, M, R) = {13} \\left( \\frac{M}{M_s} \\right)^{\\frac{-{1}}{{2}}} \\left( \\frac{\\mathrm{a}\\left(P, M\\right)}{{1} AU} \\right)^{\\frac{{1}}{{2}}} \\frac{R}{R_s} h $$"
      ],
      "text/plain": [
       "<latexify.frontend.LatexifiedFunction at 0x7fb784b982e0>"
      ]
     },
     "execution_count": 7,
     "metadata": {},
     "output_type": "execute_result"
    }
   ],
   "source": [
    "@latexify.function(identifiers=identifiers, use_math_symbols=True)\n",
    "def t(P, M_star, R_star):\n",
    "    return 13*(M_star / M_sun)**(-1/2) * (a(P, M_star) / (1*AU))**(1/2) * (R_star / R_sun) * hour\n",
    "t"
   ]
  },
  {
   "cell_type": "code",
   "execution_count": 8,
   "metadata": {},
   "outputs": [
    {
     "data": {
      "text/latex": [
       "$5.1042308 \\; \\mathrm{h}$"
      ],
      "text/plain": [
       "<Quantity 5.10423079 h>"
      ]
     },
     "execution_count": 8,
     "metadata": {},
     "output_type": "execute_result"
    }
   ],
   "source": [
    "t(100 * day, 0.6*M_sun, 0.51*R_sun).to(u.hour)"
   ]
  },
  {
   "cell_type": "markdown",
   "metadata": {
    "tags": []
   },
   "source": [
    "## c)"
   ]
  },
  {
   "cell_type": "code",
   "execution_count": 9,
   "metadata": {},
   "outputs": [],
   "source": [
    "Rp = 3389.5 * 1000 * u.m #source https://en.wikipedia.org/wiki/Mars"
   ]
  },
  {
   "cell_type": "code",
   "execution_count": 10,
   "metadata": {},
   "outputs": [
    {
     "data": {
      "text/latex": [
       "$0.009553081 \\; \\mathrm{}$"
      ],
      "text/plain": [
       "<Quantity 0.00955308>"
      ]
     },
     "execution_count": 10,
     "metadata": {},
     "output_type": "execute_result"
    }
   ],
   "source": [
    "(Rp/(0.51*R_sun)).decompose()"
   ]
  },
  {
   "cell_type": "markdown",
   "metadata": {},
   "source": [
    "# Q2"
   ]
  },
  {
   "cell_type": "code",
   "execution_count": 11,
   "metadata": {},
   "outputs": [],
   "source": [
    "M = 0.69*M_sun\n",
    "R = 0.64*R_sun"
   ]
  },
  {
   "cell_type": "code",
   "execution_count": 12,
   "metadata": {},
   "outputs": [
    {
     "data": {
      "text/latex": [
       "$$ \\displaystyle \\mathrm{R_p}(minimum_L) = R \\sqrt{\\frac{{1} - minimum_L}{{1}}} $$"
      ],
      "text/plain": [
       "<latexify.frontend.LatexifiedFunction at 0x7fb784b989d0>"
      ]
     },
     "execution_count": 12,
     "metadata": {},
     "output_type": "execute_result"
    }
   ],
   "source": [
    "@latexify.function(identifiers=identifiers, use_math_symbols=True, reduce_assignments=True)\n",
    "def R_p(minimum_L):\n",
    "    flux_change = (1 - minimum_L)/1\n",
    "    # print(f\"DL/L*: {flux_change}\\n\")\n",
    "    \n",
    "    Rp = R * np.sqrt(flux_change)\n",
    "    #print(f\"Rp: {Rp.to(u.R_earth)}\\n\")\n",
    "    return Rp\n",
    "R_p"
   ]
  },
  {
   "cell_type": "code",
   "execution_count": 13,
   "metadata": {},
   "outputs": [
    {
     "data": {
      "text/latex": [
       "$$ \\displaystyle \\mathrm{r}({\\tau}) = {1} AU \\left( \\frac{{\\tau}}{{13}} \\right)^{{2}} \\frac{M}{M_s} \\left( \\frac{R}{R_s} \\right)^{-{2}} \\left( \\frac{{1}}{h} \\right)^{{2}} $$"
      ],
      "text/plain": [
       "<latexify.frontend.LatexifiedFunction at 0x7fb784bd60a0>"
      ]
     },
     "execution_count": 13,
     "metadata": {},
     "output_type": "execute_result"
    }
   ],
   "source": [
    "@latexify.function(identifiers=identifiers, use_math_symbols=True, reduce_assignments=True)\n",
    "def r(tau):\n",
    "    a = (1*AU) * (tau/13)**2 * (M/M_sun) * (R/R_sun)**(-2) * (1/hour)**(2)\n",
    "    #print(f\"a: {a.to(u.AU)}\\n\")\n",
    "    return a\n",
    "r"
   ]
  },
  {
   "cell_type": "markdown",
   "metadata": {
    "tags": []
   },
   "source": [
    "## a) & b)"
   ]
  },
  {
   "cell_type": "markdown",
   "metadata": {},
   "source": [
    "### Kepler-62b"
   ]
  },
  {
   "cell_type": "code",
   "execution_count": 14,
   "metadata": {},
   "outputs": [
    {
     "name": "stdout",
     "output_type": "stream",
     "text": [
      "a) R_p = 1.396 earthRad\n",
      "b) a = 0.084 AU\n"
     ]
    }
   ],
   "source": [
    "print(f'a) R_p = {R_p(0.9996).to(u.R_earth).round(3)}\\nb) a = {r(2.9 * hour).to(u.AU).round(3)}')"
   ]
  },
  {
   "cell_type": "markdown",
   "metadata": {
    "tags": []
   },
   "source": [
    "### Kepler-62c"
   ]
  },
  {
   "cell_type": "code",
   "execution_count": 15,
   "metadata": {},
   "outputs": [
    {
     "name": "stdout",
     "output_type": "stream",
     "text": [
      "a) R_p = 0.698 earthRad\n",
      "b) a = 0.122 AU\n"
     ]
    }
   ],
   "source": [
    "print(f'a) R_p = {R_p(0.9999).to(u.R_earth).round(3)}\\nb) a = {r(3.5 * hour).to(u.AU).round(3)}')"
   ]
  },
  {
   "cell_type": "markdown",
   "metadata": {
    "tags": []
   },
   "source": [
    "### Kepler-62d"
   ]
  },
  {
   "cell_type": "code",
   "execution_count": 16,
   "metadata": {},
   "outputs": [
    {
     "name": "stdout",
     "output_type": "stream",
     "text": [
      "a) R_p = 2.208 earthRad\n",
      "b) a = 0.122 AU\n"
     ]
    }
   ],
   "source": [
    "print(f'a) R_p = {R_p(0.9990).to(u.R_earth).round(3)}\\nb) a = {r(3.5 * hour).to(u.AU).round(3)}')"
   ]
  },
  {
   "cell_type": "markdown",
   "metadata": {
    "tags": []
   },
   "source": [
    "### Kepler-62e"
   ]
  },
  {
   "cell_type": "code",
   "execution_count": 17,
   "metadata": {},
   "outputs": [
    {
     "name": "stdout",
     "output_type": "stream",
     "text": [
      "a) R_p = 1.847 earthRad\n",
      "b) a = 0.502 AU\n"
     ]
    }
   ],
   "source": [
    "print(f'a) R_p = {R_p(0.9993).to(u.R_earth).round(3)}\\nb) a = {r(7.1 * hour).to(u.AU).round(3)}')"
   ]
  },
  {
   "cell_type": "markdown",
   "metadata": {
    "tags": []
   },
   "source": [
    "### Kepler-62f"
   ]
  },
  {
   "cell_type": "code",
   "execution_count": 18,
   "metadata": {},
   "outputs": [
    {
     "name": "stdout",
     "output_type": "stream",
     "text": [
      "a) R_p = 1.561 earthRad\n",
      "b) a = 0.638 AU\n"
     ]
    }
   ],
   "source": [
    "print(f'a) R_p = {R_p(0.9995).to(u.R_earth).round(3)}\\nb) a = {r(8 * hour).to(u.AU).round(3)}')"
   ]
  },
  {
   "cell_type": "markdown",
   "metadata": {},
   "source": [
    "## c)"
   ]
  },
  {
   "cell_type": "code",
   "execution_count": 19,
   "metadata": {},
   "outputs": [
    {
     "data": {
      "text/latex": [
       "$0.11965523 \\; \\mathrm{AU}$"
      ],
      "text/plain": [
       "<Quantity 0.11965523 AU>"
      ]
     },
     "execution_count": 19,
     "metadata": {},
     "output_type": "execute_result"
    }
   ],
   "source": [
    "a(18.2 * day, M).to(u.AU)"
   ]
  },
  {
   "cell_type": "markdown",
   "metadata": {},
   "source": [
    "The above is quite similar to what I got in the calculation in part *b)*: $0.122$ AU.\n",
    "\n",
    "We were making the assumption that the orbits were perfectly circular, which is often not the case. Moreover we were assuming $i \\approx 90^{\\circ}$ which means that the planet is orbiting on the same plane as the observer, which is also unlikely."
   ]
  }
 ],
 "metadata": {
  "kernelspec": {
   "display_name": "Python 3",
   "language": "python",
   "name": "python3"
  },
  "language_info": {
   "codemirror_mode": {
    "name": "ipython",
    "version": 3
   },
   "file_extension": ".py",
   "mimetype": "text/x-python",
   "name": "python",
   "nbconvert_exporter": "python",
   "pygments_lexer": "ipython3",
   "version": "3.8.13"
  }
 },
 "nbformat": 4,
 "nbformat_minor": 4
}
