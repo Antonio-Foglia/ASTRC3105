{
 "cells": [
  {
   "cell_type": "code",
   "execution_count": 9,
   "metadata": {},
   "outputs": [],
   "source": [
    "import numpy as np\n",
    "import math\n",
    "import astropy as ap\n",
    "from astropy import constants as const\n",
    "from astropy  import units as u"
   ]
  },
  {
   "cell_type": "markdown",
   "metadata": {},
   "source": [
    "# Q1"
   ]
  },
  {
   "cell_type": "markdown",
   "metadata": {
    "jp-MarkdownHeadingCollapsed": true,
    "tags": []
   },
   "source": [
    "## a)"
   ]
  },
  {
   "cell_type": "code",
   "execution_count": 19,
   "metadata": {},
   "outputs": [
    {
     "data": {
      "text/latex": [
       "$5.3199826 \\times 10^{10} \\; \\mathrm{m}$"
      ],
      "text/plain": [
       "<Quantity 5.31998259e+10 m>"
      ]
     },
     "execution_count": 19,
     "metadata": {},
     "output_type": "execute_result"
    }
   ],
   "source": [
    "def a(period, M_star):\n",
    "    return (period**2 * const.G * M_star / (4 * np.pi**2))**(1/3)\n",
    "\n",
    "a(100*u.day,0.6*const.M_sun).decompose()"
   ]
  },
  {
   "cell_type": "code",
   "execution_count": 20,
   "metadata": {},
   "outputs": [],
   "source": [
    "def transit_prob(period, M_star, R_star):\n",
    "    Prob = 0.005*(R_star / const.R_sun) * (a(period, M_star) / const.au)**(-1)\n",
    "    return Prob.decompose()"
   ]
  },
  {
   "cell_type": "code",
   "execution_count": 21,
   "metadata": {},
   "outputs": [
    {
     "data": {
      "text/latex": [
       "$0.0071705981 \\; \\mathrm{}$"
      ],
      "text/plain": [
       "<Quantity 0.0071706>"
      ]
     },
     "execution_count": 21,
     "metadata": {},
     "output_type": "execute_result"
    }
   ],
   "source": [
    "transit_prob(100 * u.day, 0.6*const.M_sun, 0.51*const.R_sun)"
   ]
  },
  {
   "cell_type": "markdown",
   "metadata": {
    "tags": []
   },
   "source": [
    "## b)"
   ]
  },
  {
   "cell_type": "code",
   "execution_count": 22,
   "metadata": {},
   "outputs": [],
   "source": [
    "def tau(period, M_star, R_star):\n",
    "    t = 13*(M_star / const.M_sun)**(-1/2) * (a(period, M_star) / const.au)**(1/2) * (R_star / const.R_sun)\n",
    "    return t.decompose()"
   ]
  },
  {
   "cell_type": "code",
   "execution_count": 23,
   "metadata": {},
   "outputs": [
    {
     "data": {
      "text/latex": [
       "$5.1042308 \\; \\mathrm{}$"
      ],
      "text/plain": [
       "<Quantity 5.10423079>"
      ]
     },
     "execution_count": 23,
     "metadata": {},
     "output_type": "execute_result"
    }
   ],
   "source": [
    "tau(100 * u.day, 0.6*const.M_sun, 0.51*const.R_sun)"
   ]
  },
  {
   "cell_type": "markdown",
   "metadata": {},
   "source": [
    "## c)"
   ]
  },
  {
   "cell_type": "code",
   "execution_count": 26,
   "metadata": {},
   "outputs": [],
   "source": [
    "Rp = 3389.5 * 1000 * u.m"
   ]
  },
  {
   "cell_type": "code",
   "execution_count": 27,
   "metadata": {},
   "outputs": [
    {
     "data": {
      "text/latex": [
       "$0.009553081 \\; \\mathrm{}$"
      ],
      "text/plain": [
       "<Quantity 0.00955308>"
      ]
     },
     "execution_count": 27,
     "metadata": {},
     "output_type": "execute_result"
    }
   ],
   "source": [
    "(Rp/(0.51*const.R_sun)).decompose()"
   ]
  },
  {
   "cell_type": "markdown",
   "metadata": {},
   "source": [
    "# Q2"
   ]
  },
  {
   "cell_type": "code",
   "execution_count": null,
   "metadata": {},
   "outputs": [],
   "source": [
    "M = 0.69*const.M_sun\n",
    "R = 0.64*const.R_sun\n",
    "\n",
    "def planet_R(min_rel_flux):\n",
    "    flux_change = (1 - min_rel_flux)\n",
    "    print(f\"DL/L*: {flux_change}\\n\")\n",
    "    \n",
    "    Rp = R * np.sqrt(flux_change)\n",
    "    print(f\"Rp: {Rp.to(u.R_earth)}\\n\")\n",
    "    return \n",
    "\n",
    "def orbital_R(duration):\n",
    "    a = const.au * (duration/13)**2 * (M/const.M_sun) * (R/const.R_sun)**(-2)\n",
    "    print(f\"a: {a.to(u.AU)}\\n\")\n",
    "    return"
   ]
  },
  {
   "cell_type": "code",
   "execution_count": null,
   "metadata": {},
   "outputs": [],
   "source": [
    "planet_R(0.9996)"
   ]
  },
  {
   "cell_type": "code",
   "execution_count": null,
   "metadata": {},
   "outputs": [],
   "source": [
    "orbital_R(2.3)"
   ]
  },
  {
   "cell_type": "code",
   "execution_count": null,
   "metadata": {},
   "outputs": [],
   "source": []
  },
  {
   "cell_type": "code",
   "execution_count": null,
   "metadata": {},
   "outputs": [],
   "source": []
  },
  {
   "cell_type": "code",
   "execution_count": null,
   "metadata": {},
   "outputs": [],
   "source": []
  }
 ],
 "metadata": {
  "kernelspec": {
   "display_name": "Python 3",
   "language": "python",
   "name": "python3"
  },
  "language_info": {
   "codemirror_mode": {
    "name": "ipython",
    "version": 3
   },
   "file_extension": ".py",
   "mimetype": "text/x-python",
   "name": "python",
   "nbconvert_exporter": "python",
   "pygments_lexer": "ipython3",
   "version": "3.8.13"
  }
 },
 "nbformat": 4,
 "nbformat_minor": 4
}
