{
 "cells": [
  {
   "cell_type": "markdown",
   "metadata": {},
   "source": [
    "**Antonio Foglia, af3152**\n",
    "\n",
    "Notebook: https://github.com/Antonio-Foglia/ASTRC3105"
   ]
  },
  {
   "cell_type": "code",
   "execution_count": 36,
   "metadata": {},
   "outputs": [],
   "source": [
    "import numpy as np\n",
    "import math\n",
    "import astropy as ap\n",
    "from astropy import constants as const\n",
    "from astropy  import units as u"
   ]
  },
  {
   "cell_type": "markdown",
   "metadata": {
    "tags": []
   },
   "source": [
    "# Q1"
   ]
  },
  {
   "cell_type": "markdown",
   "metadata": {
    "tags": []
   },
   "source": [
    "## a)"
   ]
  },
  {
   "cell_type": "code",
   "execution_count": 37,
   "metadata": {},
   "outputs": [
    {
     "data": {
      "text/latex": [
       "$5.3199826 \\times 10^{10} \\; \\mathrm{m}$"
      ],
      "text/plain": [
       "<Quantity 5.31998259e+10 m>"
      ]
     },
     "execution_count": 37,
     "metadata": {},
     "output_type": "execute_result"
    }
   ],
   "source": [
    "def a(P, M_star):\n",
    "    return ((P**2 * const.G * M_star / (4 * np.pi**2))**(1/3)).decompose()\n",
    "\n",
    "a(100*u.day,0.6*const.M_sun)"
   ]
  },
  {
   "cell_type": "code",
   "execution_count": 38,
   "metadata": {},
   "outputs": [],
   "source": [
    "def transit_prob(period, M_star, R_star):\n",
    "    Prob = 0.005*(R_star / const.R_sun) * (a(period, M_star) / const.au)**(-1)\n",
    "    return Prob.decompose()"
   ]
  },
  {
   "cell_type": "code",
   "execution_count": 39,
   "metadata": {},
   "outputs": [
    {
     "data": {
      "text/latex": [
       "$0.0071705981 \\; \\mathrm{}$"
      ],
      "text/plain": [
       "<Quantity 0.0071706>"
      ]
     },
     "execution_count": 39,
     "metadata": {},
     "output_type": "execute_result"
    }
   ],
   "source": [
    "transit_prob(100 * u.day, 0.6*const.M_sun, 0.51*const.R_sun)"
   ]
  },
  {
   "cell_type": "markdown",
   "metadata": {
    "tags": []
   },
   "source": [
    "## b)"
   ]
  },
  {
   "cell_type": "code",
   "execution_count": 40,
   "metadata": {},
   "outputs": [],
   "source": [
    "def tau(period, M_star, R_star):\n",
    "    t = 13*(M_star / const.M_sun)**(-1/2) * (a(period, M_star) / const.au)**(1/2) * (R_star / const.R_sun) * u.hour\n",
    "    return t.to(u.hour)"
   ]
  },
  {
   "cell_type": "code",
   "execution_count": 41,
   "metadata": {},
   "outputs": [
    {
     "data": {
      "text/latex": [
       "$5.1042308 \\; \\mathrm{h}$"
      ],
      "text/plain": [
       "<Quantity 5.10423079 h>"
      ]
     },
     "execution_count": 41,
     "metadata": {},
     "output_type": "execute_result"
    }
   ],
   "source": [
    "tau(100 * u.day, 0.6*const.M_sun, 0.51*const.R_sun)"
   ]
  },
  {
   "cell_type": "markdown",
   "metadata": {
    "tags": []
   },
   "source": [
    "## c)"
   ]
  },
  {
   "cell_type": "code",
   "execution_count": 42,
   "metadata": {},
   "outputs": [],
   "source": [
    "Rp = 3389.5 * 1000 * u.m"
   ]
  },
  {
   "cell_type": "code",
   "execution_count": 43,
   "metadata": {},
   "outputs": [
    {
     "data": {
      "text/latex": [
       "$0.009553081 \\; \\mathrm{}$"
      ],
      "text/plain": [
       "<Quantity 0.00955308>"
      ]
     },
     "execution_count": 43,
     "metadata": {},
     "output_type": "execute_result"
    }
   ],
   "source": [
    "(Rp/(0.51*const.R_sun)).decompose()"
   ]
  },
  {
   "cell_type": "markdown",
   "metadata": {},
   "source": [
    "# Q2"
   ]
  },
  {
   "cell_type": "code",
   "execution_count": 44,
   "metadata": {},
   "outputs": [],
   "source": [
    "M = 0.69*const.M_sun\n",
    "R = 0.64*const.R_sun\n",
    "\n",
    "def planet_R(min_rel_flux):\n",
    "    flux_change = (1 - min_rel_flux)\n",
    "    # print(f\"DL/L*: {flux_change}\\n\")\n",
    "    \n",
    "    Rp = R * np.sqrt(flux_change)\n",
    "    #print(f\"Rp: {Rp.to(u.R_earth)}\\n\")\n",
    "    return Rp.to(u.R_earth)\n",
    "\n",
    "def orbital_R(duration):\n",
    "    a = const.au * (duration/13)**2 * (M/const.M_sun) * (R/const.R_sun)**(-2) * (1/u.hour)**(2)\n",
    "    #print(f\"a: {a.to(u.AU)}\\n\")\n",
    "    return a.to(u.AU)"
   ]
  },
  {
   "cell_type": "markdown",
   "metadata": {
    "tags": []
   },
   "source": [
    "## Kepler-62b"
   ]
  },
  {
   "cell_type": "code",
   "execution_count": 45,
   "metadata": {},
   "outputs": [
    {
     "name": "stdout",
     "output_type": "stream",
     "text": [
      "a) R_p = 1.396 earthRad\n",
      "b) a = 0.084 AU\n"
     ]
    }
   ],
   "source": [
    "print(f'a) R_p = {planet_R(0.9996).round(3)}\\nb) a = {orbital_R(2.9 * u.hour).round(3)}')"
   ]
  },
  {
   "cell_type": "markdown",
   "metadata": {
    "tags": []
   },
   "source": [
    "## Kepler-62c"
   ]
  },
  {
   "cell_type": "code",
   "execution_count": 46,
   "metadata": {},
   "outputs": [
    {
     "name": "stdout",
     "output_type": "stream",
     "text": [
      "a) R_p = 0.698 earthRad\n",
      "b) a = 0.122 AU\n"
     ]
    }
   ],
   "source": [
    "print(f'a) R_p = {planet_R(0.9999).round(3)}\\nb) a = {orbital_R(3.5 * u.hour).round(3)}')"
   ]
  },
  {
   "cell_type": "markdown",
   "metadata": {
    "tags": []
   },
   "source": [
    "## Kepler-62d"
   ]
  },
  {
   "cell_type": "code",
   "execution_count": 47,
   "metadata": {},
   "outputs": [
    {
     "name": "stdout",
     "output_type": "stream",
     "text": [
      "a) R_p = 2.208 earthRad\n",
      "b) a = 0.122 AU\n"
     ]
    }
   ],
   "source": [
    "print(f'a) R_p = {planet_R(0.9990).round(3)}\\nb) a = {orbital_R(3.5 * u.hour).round(3)}')"
   ]
  },
  {
   "cell_type": "markdown",
   "metadata": {
    "tags": []
   },
   "source": [
    "## Kepler-62e"
   ]
  },
  {
   "cell_type": "code",
   "execution_count": 48,
   "metadata": {},
   "outputs": [
    {
     "name": "stdout",
     "output_type": "stream",
     "text": [
      "a) R_p = 1.847 earthRad\n",
      "b) a = 0.502 AU\n"
     ]
    }
   ],
   "source": [
    "print(f'a) R_p = {planet_R(0.9993).round(3)}\\nb) a = {orbital_R(7.1 * u.hour).round(3)}')"
   ]
  },
  {
   "cell_type": "markdown",
   "metadata": {
    "tags": []
   },
   "source": [
    "## Kepler-62f"
   ]
  },
  {
   "cell_type": "code",
   "execution_count": 49,
   "metadata": {},
   "outputs": [
    {
     "name": "stdout",
     "output_type": "stream",
     "text": [
      "a) R_p = 1.561 earthRad\n",
      "b) a = 0.638 AU\n"
     ]
    }
   ],
   "source": [
    "print(f'a) R_p = {planet_R(0.9995).round(3)}\\nb) a = {orbital_R(8 * u.hour).round(3)}')"
   ]
  },
  {
   "cell_type": "markdown",
   "metadata": {},
   "source": [
    "## c)"
   ]
  },
  {
   "cell_type": "code",
   "execution_count": 50,
   "metadata": {},
   "outputs": [
    {
     "data": {
      "text/latex": [
       "$0.11965523 \\; \\mathrm{AU}$"
      ],
      "text/plain": [
       "<Quantity 0.11965523 AU>"
      ]
     },
     "execution_count": 50,
     "metadata": {},
     "output_type": "execute_result"
    }
   ],
   "source": [
    "a(18.2 * u.day, M).to(u.AU)"
   ]
  },
  {
   "cell_type": "markdown",
   "metadata": {},
   "source": [
    "The above is quite similar to what I got in the calculation in part *b)*: $0.122$ AU.\n",
    "\n",
    "We were making the assumption that the orbits were perfectly circular, which is often not the case. Moreover we were assuming $i \\approx 90^{\\circ}$ which means that the planet is orbiting on the same plane as the observer, which is also unlikely."
   ]
  }
 ],
 "metadata": {
  "kernelspec": {
   "display_name": "Python 3",
   "language": "python",
   "name": "python3"
  },
  "language_info": {
   "codemirror_mode": {
    "name": "ipython",
    "version": 3
   },
   "file_extension": ".py",
   "mimetype": "text/x-python",
   "name": "python",
   "nbconvert_exporter": "python",
   "pygments_lexer": "ipython3",
   "version": "3.8.13"
  }
 },
 "nbformat": 4,
 "nbformat_minor": 4
}
